{
 "cells": [
  {
   "cell_type": "code",
   "execution_count": 2,
   "metadata": {},
   "outputs": [
    {
     "name": "stderr",
     "output_type": "stream",
     "text": [
      "c:\\Users\\sgdbareh\\AppData\\Local\\miniconda3\\envs\\EPO\\lib\\site-packages\\tqdm\\auto.py:21: TqdmWarning: IProgress not found. Please update jupyter and ipywidgets. See https://ipywidgets.readthedocs.io/en/stable/user_install.html\n",
      "  from .autonotebook import tqdm as notebook_tqdm\n"
     ]
    }
   ],
   "source": [
    "#imports\n",
    "import spacy\n",
    "from spacy.tokens import Doc, Token\n",
    "from spacy.matcher import Matcher\n",
    "from typing import List, Tuple, Dict\n",
    "import re\n",
    "from lxml import etree\n",
    "from bs4 import BeautifulSoup\n",
    "import os\n",
    "import pandas as pd"
   ]
  },
  {
   "cell_type": "code",
   "execution_count": 4,
   "metadata": {},
   "outputs": [],
   "source": [
    "#remove HTML tags\n",
    "def RemoveHTMLTags(string):\n",
    "     \n",
    "    # Print string after removing tags\n",
    "    x = re.compile(r'<[^>]+>').sub(' ', string)\n",
    "\n",
    "    return x"
   ]
  },
  {
   "cell_type": "code",
   "execution_count": 5,
   "metadata": {},
   "outputs": [],
   "source": [
    "def DocLength(text):\n",
    "\n",
    "    return len(text)"
   ]
  },
  {
   "cell_type": "code",
   "execution_count": 6,
   "metadata": {},
   "outputs": [],
   "source": [
    "def SaveBOW(df,name):\n",
    "\n",
    "    df.to_csv(f'{name}', index=False)"
   ]
  },
  {
   "cell_type": "code",
   "execution_count": 18,
   "metadata": {},
   "outputs": [],
   "source": [
    "def PreProcessing(df,nlp):\n",
    "    \n",
    "    #filter only english and exclude pdf links to orig docs\n",
    "    df = df[(df[4]=='en') & (df[5]!='PDFEP')]\n",
    "    df = df[[1,2,3,5,7]]\n",
    "    #convert col to string\n",
    "    df[7] = df[7].astype(str)\n",
    "    #remove html tags\n",
    "    df['nlp'] = df[7].apply(RemoveHTMLTags)\n",
    "    #create spacy doc\n",
    "    df[\"nlp\"] = [doc for doc in nlp.pipe(df['nlp'].tolist())]\n",
    "    #lowercase and alpha/ punctuation/ removes individual letters such as 'f' present in original text due to abbrev\n",
    "    df['nlp'] = [[tok.lower_ for tok in doc if (tok.is_alpha) and (len(tok)>1) or (tok.lower_ in ['a','i'])] for doc in df['nlp']]\n",
    "\n",
    "    return df\n",
    "       "
   ]
  },
  {
   "cell_type": "code",
   "execution_count": 44,
   "metadata": {},
   "outputs": [],
   "source": [
    "nlp = spacy.blank('en')\n",
    "\n",
    "docLength = []\n",
    "groups = []\n",
    "uniq_patents = []\n",
    "\n",
    "with open(os.path.join('C:\\EPO Project\\EPO Patent Data','test.txt'),'r',encoding='utf8') as f:\n",
    "   \n",
    "    df = pd.read_table(f,header=None)\n",
    "    df = PreProcessing(df,nlp)\n",
    "    df['doc_length'] = df['nlp'].apply(DocLength)\n",
    "    group = df.groupby(5).size()\n",
    "    groups.append(group)\n",
    "    uniq_patents.append(len(df[1].unique()))\n",
    "    SaveBOW(df,'file')\n"
   ]
  },
  {
   "cell_type": "code",
   "execution_count": 47,
   "metadata": {},
   "outputs": [
    {
     "name": "stdout",
     "output_type": "stream",
     "text": [
      "Total Tokens =  3176\n",
      "Total Unique Patents =  7\n"
     ]
    }
   ],
   "source": [
    "print(\"Total Tokens = \", df['doc_length'].sum())\n",
    "print(\"Total Unique Patents = \", sum(uniq_patents))"
   ]
  },
  {
   "cell_type": "code",
   "execution_count": 49,
   "metadata": {},
   "outputs": [],
   "source": [
    "a = groups[0].copy()"
   ]
  },
  {
   "cell_type": "code",
   "execution_count": 50,
   "metadata": {},
   "outputs": [],
   "source": [
    "groups.append(a)"
   ]
  },
  {
   "cell_type": "code",
   "execution_count": 59,
   "metadata": {},
   "outputs": [
    {
     "ename": "AttributeError",
     "evalue": "'Series' object has no attribute 'merge'",
     "output_type": "error",
     "traceback": [
      "\u001b[1;31m---------------------------------------------------------------------------\u001b[0m",
      "\u001b[1;31mAttributeError\u001b[0m                            Traceback (most recent call last)",
      "Cell \u001b[1;32mIn[59], line 1\u001b[0m\n\u001b[1;32m----> 1\u001b[0m groups[\u001b[39m0\u001b[39;49m]\u001b[39m.\u001b[39;49mmerge(groups[\u001b[39m1\u001b[39m],how\u001b[39m=\u001b[39m\u001b[39m'\u001b[39m\u001b[39mleft\u001b[39m\u001b[39m'\u001b[39m)\n",
      "File \u001b[1;32mc:\\Users\\sgdbareh\\AppData\\Local\\miniconda3\\envs\\EPO\\lib\\site-packages\\pandas\\core\\generic.py:5989\u001b[0m, in \u001b[0;36mNDFrame.__getattr__\u001b[1;34m(self, name)\u001b[0m\n\u001b[0;32m   5982\u001b[0m \u001b[39mif\u001b[39;00m (\n\u001b[0;32m   5983\u001b[0m     name \u001b[39mnot\u001b[39;00m \u001b[39min\u001b[39;00m \u001b[39mself\u001b[39m\u001b[39m.\u001b[39m_internal_names_set\n\u001b[0;32m   5984\u001b[0m     \u001b[39mand\u001b[39;00m name \u001b[39mnot\u001b[39;00m \u001b[39min\u001b[39;00m \u001b[39mself\u001b[39m\u001b[39m.\u001b[39m_metadata\n\u001b[0;32m   5985\u001b[0m     \u001b[39mand\u001b[39;00m name \u001b[39mnot\u001b[39;00m \u001b[39min\u001b[39;00m \u001b[39mself\u001b[39m\u001b[39m.\u001b[39m_accessors\n\u001b[0;32m   5986\u001b[0m     \u001b[39mand\u001b[39;00m \u001b[39mself\u001b[39m\u001b[39m.\u001b[39m_info_axis\u001b[39m.\u001b[39m_can_hold_identifiers_and_holds_name(name)\n\u001b[0;32m   5987\u001b[0m ):\n\u001b[0;32m   5988\u001b[0m     \u001b[39mreturn\u001b[39;00m \u001b[39mself\u001b[39m[name]\n\u001b[1;32m-> 5989\u001b[0m \u001b[39mreturn\u001b[39;00m \u001b[39mobject\u001b[39;49m\u001b[39m.\u001b[39;49m\u001b[39m__getattribute__\u001b[39;49m(\u001b[39mself\u001b[39;49m, name)\n",
      "\u001b[1;31mAttributeError\u001b[0m: 'Series' object has no attribute 'merge'"
     ]
    }
   ],
   "source": [
    "#CONCAT\n",
    "groups[0].merge(groups[1],how='left')"
   ]
  }
 ],
 "metadata": {
  "kernelspec": {
   "display_name": "EPO",
   "language": "python",
   "name": "python3"
  },
  "language_info": {
   "codemirror_mode": {
    "name": "ipython",
    "version": 3
   },
   "file_extension": ".py",
   "mimetype": "text/x-python",
   "name": "python",
   "nbconvert_exporter": "python",
   "pygments_lexer": "ipython3",
   "version": "3.10.10"
  },
  "orig_nbformat": 4
 },
 "nbformat": 4,
 "nbformat_minor": 2
}
